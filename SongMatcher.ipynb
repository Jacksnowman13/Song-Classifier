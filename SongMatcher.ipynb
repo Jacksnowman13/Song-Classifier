{
 "cells": [
  {
   "cell_type": "code",
   "execution_count": 1,
   "metadata": {},
   "outputs": [],
   "source": [
    "import PeakFinder\n",
    "import SoundLoader\n",
    "import Utils\n",
    "import Splice\n",
    "import FingerprintDatabase\n",
    "import Spectrogram\n",
    "import numpy as np\n",
    "\n",
    "\n",
    "\n",
    "\n",
    "%matplotlib widget\n",
    "\n",
    "# wave = SoundLoader.load_audio(\"Songs/Pigstep.mp3\")[0]\n",
    "# wave = Splice.random_splice(\"Songs/Pigstep.mp3\", 2)\n"
   ]
  },
  {
   "cell_type": "code",
   "execution_count": 2,
   "metadata": {},
   "outputs": [],
   "source": [
    "# print(len(wave))\n",
    "# # spec = wave[Spectrogram.spectrogram(:)]\n",
    "# vec = np.array(wave)\n",
    "# spec = np.ndarray((len(vec)), dtype=np.ndarray)\n",
    "# for i in range(len(vec)) :\n",
    "#     spec[i] = Spectrogram.spectrogram(vec[i], True)"
   ]
  },
  {
   "cell_type": "code",
   "execution_count": 3,
   "metadata": {},
   "outputs": [],
   "source": [
    "# print(spec[0].shape)\n",
    "# peaks = np.zeros((len(spec)), dtype=object)\n",
    "# for i in range(len(spec)):\n",
    "#     peaks[i] = PeakFinder.get_peaks(spec[i])"
   ]
  },
  {
   "cell_type": "code",
   "execution_count": 4,
   "metadata": {},
   "outputs": [],
   "source": [
    "# # data is a list of peak tuples -> (freq, time)\n",
    "# import FanOut\n",
    "# fingerprint =  np.zeros((len(peaks)), dtype=object)\n",
    "# for i in range (len(peaks)):\n",
    "#     fingerprint[i] = FanOut.generate_tuples(peaks[i])\n",
    "# print(len(fingerprint))\n",
    "# # for i in range(len(fingerprint[0][-15])): print(f\"{fingerprint[0][456][i]}\\n\")\n"
   ]
  },
  {
   "cell_type": "code",
   "execution_count": 5,
   "metadata": {},
   "outputs": [],
   "source": [
    "import SongDatabase\n",
    "import pickle\n",
    "def getSongs():\n",
    "    for i in SongDatabase.song_info.values():\n",
    "        print(i)\n",
    "def saveDatabase(Database:str, FileName: str): \n",
    "    with open(FileName, mode = \"wb\") as opened_file:\n",
    "        pickle.dump(Database, opened_file)\n",
    "def loadDatabase(FileName:str):\n",
    "    with open(FileName,\"rb\") as unopened_file:\n",
    "        Database = pickle.load(unopened_file)\n",
    "    return Database"
   ]
  },
  {
   "cell_type": "code",
   "execution_count": 7,
   "metadata": {},
   "outputs": [
    {
     "name": "stdout",
     "output_type": "stream",
     "text": [
      "Hard Times by Paramore released in 2017\n",
      "Songs/Hard Times.mp3\n",
      "-16.421984934118168\n",
      "Classic by MKT released in 2013\n",
      "Songs/Classic.mp3\n",
      "-15.681204708425664\n",
      "September by Earth, Wind & Fire released in 1978\n",
      "Songs/September.mp3\n",
      "-16.551781106784603\n",
      "Running Up That Hill by Earth, Wind & Fire released in 1978\n",
      "Songs/Running Up That Hill.mp3\n",
      "-22.063295398046293\n",
      "Hotel California by Eagles released in 1976\n",
      "Songs/Hotel California.mp3\n",
      "-17.340335490331235\n",
      "Careless Whisper by George Michael released in 1984\n",
      "Songs/Careless Whisper.mp3\n",
      "-17.30945460635389\n",
      "Dark Necessities by Red Hot Chilli Peppers released in 2016\n",
      "Songs/Dark Necessities.mp3\n",
      "-17.10091288789095\n",
      "Cat by C418 released in 2021\n",
      "Songs/Cat.mp3\n",
      "-24.184883963376084\n",
      "Nothings Gonna Hurt You Baby by Cigarrettes released in 2012\n",
      "Songs/Nothings Gonna Hurt You Baby.mp3\n",
      "-18.28360018296945\n",
      "Ho Hey by The Lumineers released in 2012\n",
      "Songs/Ho Hey.mp3\n",
      "-18.447918722363063\n",
      "Far by C418 released in 2013\n",
      "Songs/Far.mp3\n",
      "-24.880976526839767\n",
      "Mall by C418 released in 2013\n",
      "Songs/Mall.mp3\n",
      "-27.017652720102\n",
      "Mellohi by C418 released in 2021\n",
      "Songs/Mellohi.mp3\n",
      "-25.698319264655336\n",
      "Strad by C418 released in 2017\n",
      "Songs/Strad.mp3\n",
      "-23.507805890344056\n",
      "Rhiannon by Fleetwood Mac released in 1975\n",
      "Songs/Rhiannon.mp3\n",
      "-19.211557975316648\n",
      "Ophelia by The Lumineers released in 2016\n",
      "Songs/Ophelia.mp3\n",
      "-18.81883732370718\n",
      "Blocks by C418 released in 2013\n",
      "Songs/Blocks.mp3\n",
      "-24.79923042890459\n",
      "Can_t Stop by Red Hot Chilli Peppers released in 2002\n",
      "Songs/Can_t Stop.mp3\n",
      "-15.353769510494505\n",
      "Carolina by Taylor Swift released in 2022\n",
      "Songs/Carolina.mp3\n",
      "-20.48485546684154\n",
      "Otherside by Lena Raine released in 2021\n",
      "Songs/Otherside.mp3\n",
      "-17.02176359392265\n",
      "Oh! Darling by The Beatles released in 1969\n",
      "Songs/Oh! Darling.mp3\n",
      "-17.321049065997475\n",
      "Gypsy by Fleetwood Mac released in 1982\n",
      "Songs/Gypsy.mp3\n",
      "-17.191848996425104\n",
      "Angeleyes by ABBA released in 1999\n",
      "Songs/Angeleyes.mp3\n",
      "-16.1412705734592\n",
      "Hurricane by Kanye West released in 2021\n",
      "Songs/Hurricane.mp3\n",
      "-17.26825955387499\n",
      "Wait by C418 released in 2013\n",
      "Songs/Wait.mp3\n",
      "-19.385067295765097\n"
     ]
    }
   ],
   "source": [
    "import FingerprintDatabase\n",
    "import SongDatabase\n",
    "\n",
    "SongDatabase.song_info = {}\n",
    "\n",
    "SongDatabase.add_song(\"Hard Times\", \"Paramore\", 2017) #song1\n",
    "SongDatabase.add_song(\"Classic\", \"MKT\", 2013) #song2\n",
    "SongDatabase.add_song(\"September\", \"Earth, Wind & Fire\", 1978) #song3\n",
    "SongDatabase.add_song(\"Running Up That Hill\", \"Earth, Wind & Fire\", 1978) #song4\n",
    "SongDatabase.add_song(\"Hotel California\", \"Eagles\", 1976) #song5\n",
    "SongDatabase.add_song(\"Careless Whisper\", \"George Michael\", 1984) #song6\n",
    "SongDatabase.add_song(\"Dark Necessities\", \"Red Hot Chilli Peppers\", 2016) #song7\n",
    "SongDatabase.add_song(\"Cat\", \"C418\", 2021) #song8\n",
    "SongDatabase.add_song(\"Nothings Gonna Hurt You Baby\", \"Cigarrettes\", 2012) #song9\n",
    "SongDatabase.add_song(\"Ho Hey\", \"The Lumineers\", 2012) #song10\n",
    "SongDatabase.add_song(\"Far\", \"C418\", 2013) #song11\n",
    "SongDatabase.add_song(\"Mall\", \"C418\", 2013) #song12\n",
    "SongDatabase.add_song(\"Mellohi\", \"C418\", 2021) #song13\n",
    "SongDatabase.add_song(\"Strad\", \"C418\", 2017) #song14\n",
    "SongDatabase.add_song(\"Rhiannon\", \"Fleetwood Mac\", 1975) #song15\n",
    "SongDatabase.add_song(\"Ophelia\", \"The Lumineers\", 2016) #song16\n",
    "SongDatabase.add_song(\"Blocks\", \"C418\", 2013) #song17\n",
    "SongDatabase.add_song(\"Can_t Stop\", \"Red Hot Chilli Peppers\", 2002) #song18\n",
    "SongDatabase.add_song(\"Carolina\", \"Taylor Swift\", 2022) #song19\n",
    "SongDatabase.add_song(\"Otherside\", \"Lena Raine\", 2021) #song20\n",
    "SongDatabase.add_song(\"Oh! Darling\", \"The Beatles\", 1969) #song21\n",
    "SongDatabase.add_song(\"Gypsy\", \"Fleetwood Mac\", 1982) #song22\n",
    "SongDatabase.add_song(\"Angeleyes\", \"ABBA\", 1999) #song23\n",
    "SongDatabase.add_song(\"Hurricane\", \"Kanye West\", 2021) #song24\n",
    "SongDatabase.add_song(\"Wait\", \"C418\", 2013) #song25\n",
    "SongDatabase.add_song(\"Everybody Has a Dream\", \"Billy Joel\", 1977) #song26)\n",
    "\n",
    "base = FingerprintDatabase.song_database()\n",
    "\n",
    "def syncBases(num):\n",
    "    print(SongDatabase.get_song(num))\n",
    "    base.add_song(SongDatabase.get_fanout(num), num)\n",
    "\n",
    "for i in range(1, 26):\n",
    "    syncBases(i)\n"
   ]
  },
  {
   "cell_type": "code",
   "execution_count": 8,
   "metadata": {},
   "outputs": [],
   "source": [
    "saveDatabase(base, \"base.pkl\")\n",
    "saveDatabase(SongDatabase.song_info, \"SongDatabase.pkl\")\n",
    "\n"
   ]
  },
  {
   "cell_type": "code",
   "execution_count": 14,
   "metadata": {},
   "outputs": [
    {
     "name": "stdout",
     "output_type": "stream",
     "text": [
      "<FingerprintDatabase.song_database object at 0x0000014718ED7288>\n",
      "dict_keys([1, 2, 3, 4, 5, 6, 7, 8, 9, 10, 11, 12, 13, 14, 15, 16, 17, 18, 19, 20, 21, 22, 23, 24, 25, 26, 27, 28, 29, 30, 31, 32, 33, 34, 35, 36, 37, 38, 39, 40, 41, 42, 43, 44, 45, 46, 47, 48, 49, 50, 51, 52])\n"
     ]
    }
   ],
   "source": [
    "base = loadDatabase(\"base.pkl\")\n",
    "print(base)\n",
    "SongDatabase.song_info = loadDatabase(\"SongDatabase.pkl\")\n",
    "print(SongDatabase.song_info.keys())"
   ]
  },
  {
   "cell_type": "code",
   "execution_count": 11,
   "metadata": {},
   "outputs": [
    {
     "name": "stdout",
     "output_type": "stream",
     "text": [
      "Beginnning recording for 15 seconds...\n",
      "Using input device 'Microphone (Realtek(R) Audio)'\n",
      "Recording ended\n",
      "Finished recording.\n",
      "-0.08788317787718881\n",
      "Counter({(16, 114): 111, (9, 2738): 3, (18, 861): 2, (10, 566): 2, (15, 368): 2, (15, 1117): 1, (18, 1025): 1, (4, 1588): 1, (4, 1502): 1, (16, 1213): 1, (17, 2150): 1, (21, 736): 1, (3, 886): 1, (5, 2804): 1, (18, 2539): 1, (25, 513): 1, (16, 1561): 1, (5, 3180): 1, (17, 1967): 1, (3, 1613): 1, (4, 2656): 1, (6, 563): 1, (2, 1596): 1, (21, 1686): 1, (21, 2095): 1, (24, 2319): 1, (12, 863): 1, (24, 2219): 1, (17, 688): 1, (10, 1374): 1, (18, 443): 1, (5, 2653): 1, (18, 2784): 1, (15, 1789): 1, (24, 643): 1, (20, 1384): 1, (6, 1177): 1, (10, 771): 1, (25, 1410): 1, (6, 140): 1, (6, 1588): 1, (24, 403): 1, (10, 353): 1, (5, 2040): 1, (20, 1464): 1, (10, 1320): 1, (3, 964): 1, (5, 4043): 1, (15, 862): 1, (24, 2057): 1, (10, 315): 1, (14, 997): 1, (19, 1546): 1, (16, 115): 1, (15, 644): 1, (5, 138): 1, (8, 1276): 1, (5, 3237): 1, (4, 1788): 1, (5, 922): 1, (2, 1056): 1, (21, 1499): 1, (2, 402): 1, (5, 3368): 1, (18, 2342): 1, (21, 755): 1, (3, 255): 1, (23, 1793): 1})\n",
      "{15: 6, 18: 7, 4: 4, 16: 114, 17: 3, 21: 5, 3: 4, 5: 9, 25: 2, 9: 3, 6: 4, 2: 3, 24: 5, 12: 1, 10: 7, 20: 2, 14: 1, 19: 1, 8: 1, 23: 1}\n",
      "Rhiannon by Fleetwood Mac released in 1975\n",
      "1117\n"
     ]
    }
   ],
   "source": [
    "# fan  = Utils.wave_to_fan(Splice.random_splice(\"Songs/Blocks.mp3\", 1)[0])\n",
    "fan = Utils.wave_to_fan(SoundLoader.tape_audio(15)[0])\n",
    "out = base.find_song(fan)\n",
    "print(SongDatabase.get_song(out[0]))\n",
    "print(out[1])"
   ]
  },
  {
   "cell_type": "code",
   "execution_count": 7,
   "metadata": {},
   "outputs": [
    {
     "name": "stdout",
     "output_type": "stream",
     "text": [
      "Counter({2: 3, 1: 1, 4: 1, 5: 1})\n",
      "Counter({2: 2, 5: 2, 1: 1, 4: 1})\n",
      "Counter({2: 5, 5: 3, 1: 2, 4: 2})\n"
     ]
    }
   ],
   "source": [
    "from collections import Counter\n",
    "\n",
    "c1 = Counter([1, 2, 4, 5, 2, 2])\n",
    "c2 = Counter([1, 2, 4, 5, 5, 2])\n",
    "print(c1)\n",
    "print(c2)\n",
    "print(c1 + c2)"
   ]
  }
 ],
 "metadata": {
  "kernelspec": {
   "display_name": "Python 3.7.13 ('week1')",
   "language": "python",
   "name": "python3"
  },
  "language_info": {
   "codemirror_mode": {
    "name": "ipython",
    "version": 3
   },
   "file_extension": ".py",
   "mimetype": "text/x-python",
   "name": "python",
   "nbconvert_exporter": "python",
   "pygments_lexer": "ipython3",
   "version": "3.7.13"
  },
  "orig_nbformat": 4,
  "vscode": {
   "interpreter": {
    "hash": "021268ebb9d1b1811095ee9e08b6a38929b9c54adbe719e76df5ddfc2d8ce2e2"
   }
  }
 },
 "nbformat": 4,
 "nbformat_minor": 2
}
